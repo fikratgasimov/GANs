{
 "cells": [
  {
   "cell_type": "code",
   "execution_count": 11,
   "outputs": [],
   "source": [
    "from numpy import load\n",
    "from os import listdir\n",
    "from numpy import asarray\n",
    "from numpy import savez_compressed \n",
    "from PIL import Image\n",
    "from mtcnn.mtcnn import MTCNN\n",
    "\n",
    "# load an image as an rgb numpy array\n",
    "def load_image(filename):\n",
    "    # load image from file \n",
    "    image = Image.open(filename) \n",
    "    # convert to RGB, if needed \n",
    "    image = image.convert(\"RGB\") \n",
    "    # convert to array\n",
    "    pixels = asarray(image) \n",
    "    \n",
    "    return pixels\n",
    "    \n",
    "    # extract the face from a loaded image and resize\n",
    "def extract_face(model, pixels, required_size=(80, 80)): # detect face in the image\n",
    "    faces = model.detect_faces(pixels)\n",
    "    # skip cases where we could not detect a face\n",
    "    if len(faces) == 0: return None\n",
    "    # extract details of the face\n",
    "    x1, y1, width, height = faces[0][\"box\"]\n",
    "    # force detected pixel values to be positive (bug fix) x1, y1 = abs(x1), abs(y1)\n",
    "    # convert into coordinates\n",
    "    x2, y2 = x1 + width, y1 + height\n",
    "    # retrieve face pixels\n",
    "    face_pixels = pixels[y1:y2, x1:x2]\n",
    "    # resize pixels to the model size\n",
    "    image = Image.fromarray(face_pixels)\n",
    "    image = image.resize(required_size)\n",
    "    face_array = asarray(image)\n",
    "  \n",
    "    return face_array\n",
    "\n",
    "# load images and extract faces for all images in a directory\n",
    "def load_faces(directory, n_faces): # prepare model\n",
    "    model = MTCNN()\n",
    "    faces = list()\n",
    "    # enumerate files\n",
    "    for filename in listdir(directory):\n",
    "        # load the image\n",
    "        pixels = load_image(directory + filename) # get face\n",
    "        face = extract_face(model, pixels)\n",
    "        if face is None:\n",
    "            continue\n",
    "        # store\n",
    "        faces.append(face) \n",
    "        print(len(faces), face.shape) \n",
    "        \n",
    "        # stop once we have enough \n",
    "        if len(faces) >= n_faces:\n",
    "             break\n",
    "    \n",
    "    return asarray(faces)\n"
   ],
   "metadata": {
    "collapsed": false,
    "pycharm": {
     "name": "#%%\n",
     "is_executing": false
    }
   }
  },
  {
   "cell_type": "code",
   "execution_count": 19,
   "outputs": [
    {
     "name": "stdout",
     "text": [
      "1 (80, 80, 3)\n2 (80, 80, 3)\n3 (80, 80, 3)\n4 (80, 80, 3)\n5 (80, 80, 3)\n",
      "6 (80, 80, 3)\n7 (80, 80, 3)\n8 (80, 80, 3)\n9 (80, 80, 3)\n",
      "10 (80, 80, 3)\n11 (80, 80, 3)\n12 (80, 80, 3)\n13 (80, 80, 3)\n14 (80, 80, 3)\n",
      "15 (80, 80, 3)\n16 (80, 80, 3)\n17 (80, 80, 3)\n18 (80, 80, 3)\n",
      "19 (80, 80, 3)\n20 (80, 80, 3)\n21 (80, 80, 3)\n22 (80, 80, 3)\n",
      "23 (80, 80, 3)\n24 (80, 80, 3)\n25 (80, 80, 3)\n",
      "26 (80, 80, 3)\n27 (80, 80, 3)\n28 (80, 80, 3)\n29 (80, 80, 3)\n30 (80, 80, 3)\n",
      "31 (80, 80, 3)\n32 (80, 80, 3)\n33 (80, 80, 3)\n34 (80, 80, 3)\n",
      "35 (80, 80, 3)\n36 (80, 80, 3)\n37 (80, 80, 3)\n38 (80, 80, 3)\n",
      "39 (80, 80, 3)\n40 (80, 80, 3)\n41 (80, 80, 3)\n",
      "42 (80, 80, 3)\n43 (80, 80, 3)\n44 (80, 80, 3)\n45 (80, 80, 3)\n46 (80, 80, 3)\n",
      "47 (80, 80, 3)\n48 (80, 80, 3)\n49 (80, 80, 3)\n50 (80, 80, 3)\n51 (80, 80, 3)\n",
      "52 (80, 80, 3)\n53 (80, 80, 3)\n54 (80, 80, 3)\n55 (80, 80, 3)\n56 (80, 80, 3)\n",
      "57 (80, 80, 3)\n58 (80, 80, 3)\n59 (80, 80, 3)\n60 (80, 80, 3)\n",
      "61 (80, 80, 3)\n62 (80, 80, 3)\n63 (80, 80, 3)\n64 (80, 80, 3)\n",
      "65 (80, 80, 3)\n66 (80, 80, 3)\n67 (80, 80, 3)\n68 (80, 80, 3)\n",
      "69 (80, 80, 3)\n70 (80, 80, 3)\n71 (80, 80, 3)\n72 (80, 80, 3)\n73 (80, 80, 3)\n74 (80, 80, 3)\n",
      "75 (80, 80, 3)\n76 (80, 80, 3)\n77 (80, 80, 3)\n78 (80, 80, 3)\n79 (80, 80, 3)\n",
      "80 (80, 80, 3)\n81 (80, 80, 3)\n82 (80, 80, 3)\n83 (80, 80, 3)\n84 (80, 80, 3)\n85 (80, 80, 3)\n",
      "86 (80, 80, 3)\n87 (80, 80, 3)\n88 (80, 80, 3)\n89 (80, 80, 3)\n",
      "90 (80, 80, 3)\n91 (80, 80, 3)\n92 (80, 80, 3)\n",
      "93 (80, 80, 3)\n94 (80, 80, 3)\n95 (80, 80, 3)\n96 (80, 80, 3)\n97 (80, 80, 3)\n",
      "98 (80, 80, 3)\n99 (80, 80, 3)\n100 (80, 80, 3)\n101 (80, 80, 3)\n",
      "102 (80, 80, 3)\n103 (80, 80, 3)\n104 (80, 80, 3)\n105 (80, 80, 3)\n106 (80, 80, 3)\n107 (80, 80, 3)\n",
      "108 (80, 80, 3)\n109 (80, 80, 3)\n110 (80, 80, 3)\n111 (80, 80, 3)\n",
      "112 (80, 80, 3)\n113 (80, 80, 3)\n114 (80, 80, 3)\n115 (80, 80, 3)\n116 (80, 80, 3)\n",
      "117 (80, 80, 3)\n118 (80, 80, 3)\n119 (80, 80, 3)\n120 (80, 80, 3)\n",
      "121 (80, 80, 3)\n122 (80, 80, 3)\n123 (80, 80, 3)\n124 (80, 80, 3)\n125 (80, 80, 3)\n",
      "126 (80, 80, 3)\n127 (80, 80, 3)\n",
      "128 (80, 80, 3)\nLoaded:  (128, 80, 80, 3)\nLoaded:  (128, 80, 80, 3)\n"
     ],
     "output_type": "stream"
    }
   ],
   "source": [
    "# directory that contains all images\n",
    "directory = \"celeba-dataset/img_align_celeba/img_align_celeba/\"\n",
    "# load and extract all faces\n",
    "all_faces = load_faces(directory, 128) \n",
    "print(\"Loaded: \", all_faces.shape)\n",
    "# save in compressed format \n",
    "savez_compressed(\"img_align_celeba.npz\", all_faces)\n",
    "\n",
    "# load the face dataset\n",
    "data = load(\"img_align_celeba.npz\") \n",
    "faces = data[\"arr_0\"] \n",
    "print(\"Loaded: \", faces.shape)\n",
    "\n"
   ],
   "metadata": {
    "collapsed": false,
    "pycharm": {
     "name": "#%%\n",
     "is_executing": false
    }
   }
  }
 ],
 "metadata": {
  "kernelspec": {
   "display_name": "Python 3",
   "language": "python",
   "name": "python3"
  },
  "language_info": {
   "codemirror_mode": {
    "name": "ipython",
    "version": 2
   },
   "file_extension": ".py",
   "mimetype": "text/x-python",
   "name": "python",
   "nbconvert_exporter": "python",
   "pygments_lexer": "ipython2",
   "version": "2.7.6"
  },
  "pycharm": {
   "stem_cell": {
    "cell_type": "raw",
    "source": [],
    "metadata": {
     "collapsed": false
    }
   }
  }
 },
 "nbformat": 4,
 "nbformat_minor": 0
}